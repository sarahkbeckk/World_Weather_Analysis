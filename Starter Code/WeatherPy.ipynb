{
 "cells": [
  {
   "cell_type": "markdown",
   "metadata": {},
   "source": [
    "# WeatherPy\n",
    "----\n",
    "\n",
    "#### Note\n",
    "* Instructions have been included for each segment. You do not have to follow them exactly, but they are included to help you think through the steps."
   ]
  },
  {
   "cell_type": "code",
   "execution_count": 1,
   "metadata": {
    "scrolled": true
   },
   "outputs": [],
   "source": [
    "# Dependencies and Setup\n",
    "import matplotlib.pyplot as plt\n",
    "import pandas as pd\n",
    "import numpy as np\n",
    "import requests\n",
    "import time\n",
    "from scipy.stats import linregress\n",
    "\n",
    "# Import API key\n",
    "from api_keys import weather_api_key\n",
    "\n",
    "# Incorporated citipy to determine city based on latitude and longitude\n",
    "from citipy import citipy\n",
    "\n",
    "# Output File (CSV)\n",
    "output_data_file = \"output_data/cities.csv\"\n",
    "\n",
    "# Range of latitudes and longitudes\n",
    "lat_range = (-90, 90)\n",
    "lng_range = (-180, 180)"
   ]
  },
  {
   "cell_type": "markdown",
   "metadata": {},
   "source": [
    "## Generate Cities List"
   ]
  },
  {
   "cell_type": "code",
   "execution_count": 2,
   "metadata": {},
   "outputs": [
    {
     "data": {
      "text/plain": [
       "620"
      ]
     },
     "execution_count": 2,
     "metadata": {},
     "output_type": "execute_result"
    }
   ],
   "source": [
    "# List for holding lat_lngs and cities\n",
    "lat_lngs = []\n",
    "cities = []\n",
    "\n",
    "# Create a set of random lat and lng combinations\n",
    "lats = np.random.uniform(lat_range[0], lat_range[1], size=1500)\n",
    "lngs = np.random.uniform(lng_range[0], lng_range[1], size=1500)\n",
    "lat_lngs = zip(lats, lngs)\n",
    "\n",
    "# Identify nearest city for each lat, lng combination\n",
    "for lat_lng in lat_lngs:\n",
    "    city = citipy.nearest_city(lat_lng[0], lat_lng[1]).city_name\n",
    "    \n",
    "    # If the city is unique, then add it to a our cities list\n",
    "    if city not in cities:\n",
    "        cities.append(city)\n",
    "\n",
    "# Print the city count to confirm sufficient count\n",
    "len(cities)"
   ]
  },
  {
   "cell_type": "markdown",
   "metadata": {},
   "source": [
    "### Perform API Calls\n",
    "* Perform a weather check on each city using a series of successive API calls.\n",
    "* Include a print log of each city as it'sbeing processed (with the city number and city name).\n"
   ]
  },
  {
   "cell_type": "markdown",
   "metadata": {},
   "source": [
    "# Below is the code I wrote that I cannot for the life of me get to work. Error 400 every time. I C&P code for that cell only and changed the code to work for my stuff. Everything else is handwritten. Not plagerism.. hopefully. "
   ]
  },
  {
   "cell_type": "code",
   "execution_count": 3,
   "metadata": {
    "scrolled": true
   },
   "outputs": [],
   "source": [
    "#base_url = \"http://api.openweathermap.org/data/2.5/weather?units=Imperial\"\n",
    "\n",
    "#query_url = base_url + \"&appid=\" + weather_api_key + \"&q\"\n",
    "\n",
    "#lists\n",
    "\n",
    "#city_me = []\n",
    "#temp_f = []\n",
    "#humidity = []\n",
    "#cloudiness = []\n",
    "#wind_speed = []\n",
    "#lon = []\n",
    "#lat = []\n",
    "\n",
    "#record = 1  \n",
    "\n",
    "#print(f'go go gadget')\n",
    "\n",
    "\n",
    "#please let this for loop work dear god\n",
    "\n",
    "#for city in cities:\n",
    "#   try:\n",
    "#        response = requests.get(f'{query_url}{city}').json()\n",
    "\n",
    "#        city_me.append(response['name'])\n",
    "#        temp_f.append(response['main']['temp'])\n",
    "  #      humidity.append(response['main']['humidity'])\n",
    "   #    wind_speed.append(response['wind']['speed'])\n",
    "    #    lon.append(response['coord']['lon'])\n",
    "     #   lat.append(response['coord']['lat'])\n",
    "\n",
    "\n",
    "      #  print(f'Record {record} : {city}')\n",
    "       # record = record + 1\n",
    "        \n",
    " #   except KeyError:\n",
    "#        print(f'still an idiot, sarah')\n"
   ]
  },
  {
   "cell_type": "code",
   "execution_count": 4,
   "metadata": {},
   "outputs": [
    {
     "name": "stdout",
     "output_type": "stream",
     "text": [
      "Go go gadget\n",
      "Record 1 : kavaratti\n",
      "Record 2 : acari\n",
      "That is not a place, fool\n",
      "Record 3 : khatanga\n",
      "Record 4 : brae\n",
      "Record 5 : moron\n",
      "That is not a place, fool\n",
      "Record 6 : mahebourg\n",
      "Record 7 : thompson\n",
      "Record 8 : arraial do cabo\n",
      "Record 9 : sonepur\n",
      "Record 10 : lagoa\n",
      "Record 11 : sangmelima\n",
      "Record 12 : busselton\n",
      "Record 13 : sorland\n",
      "Record 14 : neiafu\n",
      "Record 15 : ussel\n",
      "Record 16 : ponta do sol\n",
      "Record 17 : kaitangata\n",
      "Record 18 : sao filipe\n",
      "Record 19 : ribeira grande\n",
      "Record 20 : killarney\n",
      "Record 21 : port alfred\n",
      "That is not a place, fool\n",
      "That is not a place, fool\n",
      "Record 22 : bathsheba\n",
      "Record 23 : lebu\n",
      "Record 24 : gobabis\n",
      "Record 25 : tiksi\n",
      "Record 26 : moratuwa\n",
      "Record 27 : bredasdorp\n",
      "Record 28 : aswan\n",
      "Record 29 : caravelas\n",
      "Record 30 : chivana\n",
      "Record 31 : vaini\n",
      "Record 32 : hilo\n",
      "Record 33 : jamestown\n",
      "Record 34 : ushuaia\n",
      "Record 35 : bouza\n",
      "Record 36 : punta arenas\n",
      "Record 37 : butaritari\n",
      "Record 38 : cape town\n",
      "Record 39 : east london\n",
      "Record 40 : geraldton\n",
      "Record 41 : mezhdurechensk\n",
      "Record 42 : hermanus\n",
      "Record 43 : avarua\n",
      "Record 44 : fortuna\n",
      "Record 45 : barrow\n",
      "Record 46 : salinas\n",
      "Record 47 : new norfolk\n",
      "Record 48 : bengkulu\n",
      "Record 49 : atuona\n",
      "Record 50 : rawson\n",
      "Record 51 : qaanaaq\n",
      "That is not a place, fool\n",
      "Record 52 : souillac\n",
      "Record 53 : walvis bay\n",
      "Record 54 : kirove\n",
      "Record 55 : padang\n",
      "Record 56 : hualmay\n",
      "Record 57 : nome\n",
      "Record 58 : rikitea\n",
      "Record 59 : berlevag\n",
      "That is not a place, fool\n",
      "Record 60 : pakxan\n",
      "Record 61 : springdale\n",
      "Record 62 : upernavik\n",
      "Record 63 : bethel\n",
      "Record 64 : leiyang\n",
      "Record 65 : igarka\n",
      "Record 66 : chuy\n",
      "Record 67 : port hardy\n",
      "Record 68 : hobart\n",
      "That is not a place, fool\n",
      "That is not a place, fool\n",
      "Record 69 : ust-kulom\n",
      "Record 70 : sao joao da barra\n",
      "Record 71 : saint-philippe\n",
      "Record 72 : bhandaria\n",
      "Record 73 : ahipara\n",
      "That is not a place, fool\n",
      "That is not a place, fool\n",
      "Record 74 : siverek\n",
      "Record 75 : havre\n",
      "Record 76 : santa cruz de tenerife\n",
      "Record 77 : mar del plata\n",
      "Record 78 : pangody\n",
      "Record 79 : atambua\n",
      "Record 80 : chokurdakh\n",
      "Record 81 : senador jose porfirio\n",
      "Record 82 : otjimbingwe\n",
      "Record 83 : san carlos de bariloche\n",
      "Record 84 : hithadhoo\n",
      "Record 85 : cozumel\n",
      "Record 86 : pisco\n",
      "Record 87 : mugla\n",
      "Record 88 : oranjemund\n",
      "Record 89 : nikolskoye\n",
      "Record 90 : albany\n",
      "Record 91 : cabo san lucas\n",
      "Record 92 : iquitos\n",
      "Record 93 : zaraza\n",
      "Record 94 : port elizabeth\n",
      "Record 95 : sitka\n",
      "Record 96 : esperance\n",
      "That is not a place, fool\n",
      "Record 97 : aripuana\n",
      "Record 98 : tuktoyaktuk\n",
      "Record 99 : yellowknife\n",
      "Record 100 : leningradskiy\n",
      "Record 101 : mataura\n",
      "Record 102 : klaksvik\n",
      "Record 103 : saldanha\n",
      "Record 104 : lompoc\n",
      "Record 105 : cidreira\n",
      "Record 106 : hearst\n",
      "Record 107 : bousso\n",
      "Record 108 : zyryanka\n",
      "Record 109 : marsh harbour\n",
      "Record 110 : russell\n",
      "Record 111 : alihe\n",
      "Record 112 : victoria\n",
      "Record 113 : alice springs\n",
      "Record 114 : buhe\n",
      "Record 115 : narsaq\n",
      "Record 116 : hay river\n",
      "Record 117 : vao\n",
      "Record 118 : liberal\n",
      "Record 119 : viesca\n",
      "Record 120 : sikeston\n",
      "Record 121 : puerto ayora\n",
      "Record 122 : quatre cocos\n",
      "Record 123 : chicama\n",
      "Record 124 : setermoen\n",
      "Record 125 : samoylovka\n",
      "Record 126 : carnarvon\n",
      "Record 127 : kutum\n",
      "Record 128 : matara\n",
      "That is not a place, fool\n",
      "Record 129 : husavik\n",
      "Record 130 : am timan\n",
      "Record 131 : kachug\n",
      "Record 132 : guisa\n",
      "Record 133 : onverwacht\n",
      "Record 134 : tilichiki\n",
      "Record 135 : nizhniy tsasuchey\n",
      "Record 136 : felanitx\n",
      "That is not a place, fool\n",
      "Record 137 : tuatapere\n",
      "Record 138 : cherskiy\n",
      "Record 139 : airai\n",
      "Record 140 : talas\n",
      "Record 141 : khuzdar\n",
      "That is not a place, fool\n",
      "That is not a place, fool\n",
      "Record 142 : menongue\n",
      "Record 143 : kapaa\n",
      "Record 144 : tasiilaq\n",
      "Record 145 : nuuk\n",
      "Record 146 : avera\n",
      "Record 147 : batagay-alyta\n",
      "Record 148 : koulikoro\n",
      "Record 149 : flin flon\n",
      "Record 150 : codrington\n",
      "Record 151 : sao jose da coroa grande\n",
      "Record 152 : kiunga\n",
      "Record 153 : paraguacu paulista\n",
      "Record 154 : taksimo\n",
      "Record 155 : castro\n",
      "Record 156 : gushikawa\n",
      "Record 157 : nove davydkovo\n",
      "Record 158 : alofi\n",
      "Record 159 : zalari\n",
      "Record 160 : banjar\n",
      "Record 161 : luwuk\n",
      "Record 162 : kadom\n",
      "Record 163 : coquimbo\n",
      "Record 164 : dikson\n",
      "Record 165 : mwinilunga\n",
      "Record 166 : nandi\n",
      "Record 167 : antalaha\n",
      "Record 168 : san rafael\n",
      "Record 169 : morondava\n",
      "Record 170 : luderitz\n",
      "Record 171 : nanae\n",
      "Record 172 : cayenne\n",
      "Record 173 : bluff\n",
      "That is not a place, fool\n",
      "Record 174 : paamiut\n",
      "Record 175 : norman wells\n",
      "Record 176 : razole\n",
      "Record 177 : kodiak\n",
      "Record 178 : longyearbyen\n",
      "Record 179 : kirakira\n",
      "Record 180 : salalah\n",
      "Record 181 : pevek\n",
      "Record 182 : juneau\n",
      "Record 183 : nikolsk\n",
      "Record 184 : vuktyl\n",
      "Record 185 : hambantota\n",
      "Record 186 : faya\n",
      "That is not a place, fool\n",
      "That is not a place, fool\n",
      "Record 187 : isangel\n",
      "Record 188 : college\n",
      "Record 189 : tonj\n",
      "Record 190 : seoul\n",
      "Record 191 : coihaique\n",
      "Record 192 : omsukchan\n",
      "Record 193 : del rio\n",
      "Record 194 : hasaki\n",
      "That is not a place, fool\n",
      "Record 195 : krasnorechenskiy\n",
      "Record 196 : puerto escondido\n",
      "Record 197 : severnoye\n",
      "Record 198 : kisangani\n",
      "Record 199 : khandbari\n",
      "Record 200 : hami\n",
      "Record 201 : shimoda\n",
      "Record 202 : talnakh\n",
      "Record 203 : villanueva\n",
      "Record 204 : maltahohe\n",
      "Record 205 : udachnyy\n",
      "Record 206 : lavrentiya\n",
      "That is not a place, fool\n",
      "Record 207 : beni mazar\n",
      "Record 208 : carutapera\n",
      "Record 209 : tomohon\n",
      "Record 210 : itarema\n",
      "Record 211 : sisimiut\n",
      "Record 212 : mozarlandia\n",
      "Record 213 : miles city\n",
      "Record 214 : deder\n",
      "Record 215 : kerrville\n",
      "Record 216 : mentougou\n",
      "Record 217 : hoa binh\n",
      "Record 218 : sehore\n",
      "Record 219 : port-cartier\n",
      "Record 220 : horgos\n",
      "Record 221 : soyo\n",
      "Record 222 : preobrazheniye\n",
      "Record 223 : lorengau\n",
      "Record 224 : torbay\n",
      "Record 225 : whitianga\n",
      "Record 226 : lazaro cardenas\n",
      "Record 227 : muros\n",
      "Record 228 : ganta\n",
      "Record 229 : nanortalik\n",
      "Record 230 : atar\n",
      "Record 231 : tocopilla\n",
      "Record 232 : khanu woralaksaburi\n",
      "Record 233 : saint george\n",
      "Record 234 : arles\n",
      "Record 235 : baoding\n",
      "Record 236 : san patricio\n",
      "Record 237 : aranos\n",
      "Record 238 : hovd\n",
      "Record 239 : jiuquan\n",
      "Record 240 : adrar\n",
      "Record 241 : skeldon\n",
      "Record 242 : truth or consequences\n",
      "Record 243 : shatsk\n",
      "Record 244 : comodoro rivadavia\n",
      "Record 245 : tevriz\n",
      "Record 246 : nerchinskiy zavod\n",
      "Record 247 : grand haven\n",
      "Record 248 : slave lake\n",
      "Record 249 : sadovoye\n",
      "Record 250 : iqaluit\n",
      "Record 251 : barhi\n",
      "Record 252 : luau\n",
      "Record 253 : havre-saint-pierre\n",
      "Record 254 : yerbogachen\n",
      "Record 255 : kattivakkam\n",
      "Record 256 : mitsamiouli\n",
      "Record 257 : catamarca\n",
      "Record 258 : laguna\n",
      "Record 259 : saulkrasti\n",
      "Record 260 : znamenskoye\n",
      "Record 261 : santo antonio do ica\n",
      "Record 262 : butterworth\n",
      "Record 263 : mount gambier\n",
      "Record 264 : rochegda\n",
      "Record 265 : tessalit\n",
      "Record 266 : belaya gora\n",
      "Record 267 : kavieng\n",
      "Record 268 : vardo\n",
      "Record 269 : maralal\n",
      "Record 270 : surt\n",
      "Record 271 : grand gaube\n",
      "That is not a place, fool\n",
      "Record 272 : asau\n",
      "Record 273 : el alto\n",
      "Record 274 : georgetown\n",
      "Record 275 : kargat\n",
      "Record 276 : burkburnett\n",
      "Record 277 : concordia\n",
      "Record 278 : zhangye\n",
      "Record 279 : encruzilhada do sul\n",
      "Record 280 : christchurch\n",
      "Record 281 : namibe\n",
      "Record 282 : aksu\n",
      "Record 283 : xinqing\n",
      "Record 284 : rabo de peixe\n",
      "Record 285 : sola\n",
      "Record 286 : awallan\n",
      "Record 287 : buenos aires\n",
      "That is not a place, fool\n",
      "Record 288 : dalianwan\n",
      "Record 289 : komsomolskiy\n",
      "Record 290 : aklavik\n",
      "Record 291 : horadiz\n",
      "Record 292 : provideniya\n",
      "Record 293 : kirchlinteln\n",
      "Record 294 : santa rosa\n",
      "Record 295 : sobolevo\n",
      "Record 296 : panjab\n",
      "Record 297 : rumoi\n",
      "Record 298 : mizdah\n",
      "Record 299 : glendive\n",
      "Record 300 : ilulissat\n",
      "That is not a place, fool\n",
      "Record 301 : andros town\n",
      "Record 302 : mareeba\n",
      "That is not a place, fool\n",
      "Record 303 : chippewa falls\n",
      "Record 304 : buraydah\n",
      "That is not a place, fool\n",
      "Record 305 : namatanai\n",
      "Record 306 : quzhou\n",
      "Record 307 : bulgan\n",
      "Record 308 : the valley\n",
      "Record 309 : svetlogorsk\n",
      "Record 310 : botosana\n",
      "Record 311 : fare\n",
      "Record 312 : oktyabrskoye\n",
      "Record 313 : pimentel\n",
      "Record 314 : nantucket\n",
      "Record 315 : fez\n",
      "Record 316 : thanesar\n",
      "Record 317 : garmsar\n",
      "Record 318 : erattupetta\n",
      "Record 319 : wanning\n",
      "That is not a place, fool\n",
      "Record 320 : portland\n",
      "Record 321 : grinnell\n",
      "Record 322 : kismayo\n",
      "That is not a place, fool\n",
      "Record 323 : rypin\n",
      "Record 324 : muroto\n",
      "Record 325 : westport\n",
      "Record 326 : mitu\n",
      "Record 327 : kloulklubed\n",
      "Record 328 : tabuk\n",
      "That is not a place, fool\n",
      "Record 329 : grindavik\n",
      "Record 330 : claveria\n",
      "Record 331 : lannion\n",
      "Record 332 : dovers\n",
      "That is not a place, fool\n",
      "Record 333 : mersing\n",
      "Record 334 : nisia floresta\n",
      "Record 335 : fairbanks\n",
      "Record 336 : richards bay\n"
     ]
    },
    {
     "name": "stdout",
     "output_type": "stream",
     "text": [
      "Record 337 : pangnirtung\n",
      "Record 338 : kindersley\n",
      "Record 339 : la union\n",
      "Record 340 : pecos\n",
      "Record 341 : guerrero negro\n",
      "Record 342 : launceston\n",
      "That is not a place, fool\n",
      "Record 343 : bagdarin\n",
      "Record 344 : biak\n",
      "Record 345 : tawau\n",
      "Record 346 : khasan\n",
      "Record 347 : pinawa\n",
      "Record 348 : naze\n",
      "Record 349 : arak\n",
      "Record 350 : bata\n",
      "Record 351 : auki\n",
      "That is not a place, fool\n",
      "Record 352 : mahanje\n",
      "Record 353 : oruro\n",
      "Record 354 : abidjan\n",
      "Record 355 : bambous virieux\n",
      "Record 356 : celestun\n",
      "Record 357 : gongzhuling\n",
      "Record 358 : viking\n",
      "Record 359 : mount isa\n",
      "Record 360 : erdenet\n",
      "Record 361 : gao\n",
      "That is not a place, fool\n",
      "Record 362 : chapais\n",
      "Record 363 : bisho\n",
      "Record 364 : saskylakh\n",
      "Record 365 : shahreza\n",
      "Record 366 : debre sina\n",
      "Record 367 : anadyr\n",
      "Record 368 : steinbach\n",
      "Record 369 : kiruna\n",
      "Record 370 : carbunesti\n",
      "Record 371 : verkhnyaya inta\n",
      "Record 372 : mbuji-mayi\n",
      "Record 373 : aitape\n",
      "Record 374 : killybegs\n",
      "Record 375 : noumea\n",
      "Record 376 : ketchikan\n",
      "Record 377 : ganzhou\n",
      "Record 378 : charters towers\n",
      "That is not a place, fool\n",
      "Record 379 : meadow lake\n",
      "Record 380 : lasa\n",
      "That is not a place, fool\n",
      "Record 381 : qaqortoq\n",
      "That is not a place, fool\n",
      "Record 382 : sehithwa\n",
      "Record 383 : kaili\n",
      "Record 384 : hit\n",
      "Record 385 : energetik\n",
      "Record 386 : sinnamary\n",
      "Record 387 : vercheres\n",
      "Record 388 : kasongo-lunda\n",
      "Record 389 : nuevo progreso\n",
      "Record 390 : luba\n",
      "That is not a place, fool\n",
      "Record 391 : katsuura\n",
      "Record 392 : kysyl-syr\n",
      "Record 393 : jiazi\n",
      "That is not a place, fool\n",
      "Record 394 : rayong\n",
      "Record 395 : bahia blanca\n",
      "Record 396 : tiarei\n",
      "That is not a place, fool\n",
      "Record 397 : tashtyp\n",
      "That is not a place, fool\n",
      "Record 398 : severo-kurilsk\n",
      "Record 399 : changchun\n",
      "That is not a place, fool\n",
      "Record 400 : andrychow\n",
      "Record 401 : paita\n",
      "Record 402 : bilibino\n",
      "Record 403 : voh\n",
      "Record 404 : wajid\n",
      "Record 405 : norwich\n",
      "Record 406 : santarem\n",
      "Record 407 : faanui\n",
      "Record 408 : vestmanna\n",
      "Record 409 : constitucion\n",
      "Record 410 : abu dhabi\n",
      "Record 411 : thunder bay\n",
      "That is not a place, fool\n",
      "Record 412 : nanzhang\n",
      "Record 413 : san angelo\n",
      "Record 414 : homer\n",
      "Record 415 : mlimba\n",
      "Record 416 : ca mau\n",
      "Record 417 : rome\n",
      "Record 418 : waseca\n",
      "Record 419 : taltal\n",
      "Record 420 : takapau\n",
      "Record 421 : san jose\n",
      "Record 422 : niksic\n",
      "Record 423 : seddon\n",
      "Record 424 : maple creek\n",
      "Record 425 : kaeo\n",
      "Record 426 : phalombe\n",
      "Record 427 : melito di porto salvo\n",
      "Record 428 : mut\n",
      "Record 429 : ryotsu\n",
      "That is not a place, fool\n",
      "Record 430 : hofn\n",
      "Record 431 : sembe\n",
      "Record 432 : labuhan\n",
      "Record 433 : karlskrona\n",
      "That is not a place, fool\n",
      "That is not a place, fool\n",
      "Record 434 : ajdabiya\n",
      "Record 435 : piacabucu\n",
      "Record 436 : kurilsk\n",
      "Record 437 : yonezawa\n",
      "Record 438 : meulaboh\n",
      "Record 439 : bulawayo\n",
      "Record 440 : ulaanbaatar\n",
      "Record 441 : nishihara\n",
      "Record 442 : stendal\n",
      "Record 443 : vostok\n",
      "That is not a place, fool\n",
      "Record 444 : ivanteyevka\n",
      "Record 445 : larkana\n",
      "Record 446 : valky\n",
      "Record 447 : saint-leu\n",
      "Record 448 : flinders\n",
      "Record 449 : blackwater\n",
      "Record 450 : guaruja\n",
      "Record 451 : puerto suarez\n",
      "Record 452 : yulara\n",
      "Record 453 : hartford\n",
      "Record 454 : shache\n",
      "Record 455 : xining\n",
      "Record 456 : poum\n",
      "Record 457 : barcelos\n",
      "Record 458 : payo\n",
      "Record 459 : iguape\n",
      "Record 460 : ternate\n",
      "Record 461 : turayf\n",
      "Record 462 : hokitika\n",
      "Record 463 : marang\n",
      "Record 464 : sao felix do xingu\n",
      "Record 465 : aksarka\n",
      "Record 466 : simao\n",
      "Record 467 : fort morgan\n",
      "Record 468 : touros\n",
      "Record 469 : de aar\n",
      "Record 470 : acarau\n",
      "Record 471 : mecca\n",
      "Record 472 : mabaruma\n",
      "Record 473 : dalvik\n",
      "Record 474 : hirara\n",
      "Record 475 : ngunguru\n",
      "Record 476 : dedza\n",
      "Record 477 : pochutla\n",
      "Record 478 : hanzhong\n",
      "Record 479 : barra dos coqueiros\n",
      "Record 480 : tabou\n",
      "Record 481 : temir\n",
      "Record 482 : saint-augustin\n",
      "Record 483 : ostrovnoy\n",
      "Record 484 : sao raimundo nonato\n",
      "Record 485 : naraini\n",
      "That is not a place, fool\n",
      "Record 486 : west bay\n",
      "That is not a place, fool\n",
      "Record 487 : krishnagiri\n",
      "Record 488 : linxia\n",
      "That is not a place, fool\n",
      "Record 489 : pitimbu\n",
      "Record 490 : tessaoua\n",
      "Record 491 : pacasmayo\n",
      "Record 492 : kinarut\n",
      "Record 493 : puerto carreno\n",
      "That is not a place, fool\n",
      "Record 494 : caraballeda\n",
      "Record 495 : half moon bay\n",
      "Record 496 : dalnerechensk\n",
      "Record 497 : great yarmouth\n",
      "Record 498 : florence\n",
      "Record 499 : genhe\n",
      "Record 500 : cockburn town\n",
      "Record 501 : moram\n",
      "That is not a place, fool\n",
      "Record 502 : chunskiy\n",
      "Record 503 : phonhong\n",
      "Record 504 : zhuhai\n",
      "Record 505 : gat\n",
      "Record 506 : baykit\n",
      "Record 507 : skjervoy\n",
      "Record 508 : bilma\n",
      "Record 509 : uarini\n",
      "Record 510 : mengcheng\n",
      "Record 511 : socorro\n",
      "Record 512 : evensk\n",
      "Record 513 : harper\n",
      "Record 514 : budelsdorf\n",
      "Record 515 : susanville\n",
      "Record 516 : san cristobal\n",
      "Record 517 : wellington\n",
      "Record 518 : monte alegre\n",
      "Record 519 : suba\n",
      "Record 520 : takoradi\n",
      "Record 521 : severodvinsk\n",
      "Record 522 : griffith\n",
      "Record 523 : ojinaga\n",
      "Record 524 : maragogi\n",
      "Record 525 : yeppoon\n",
      "Record 526 : saint-pierre\n",
      "Record 527 : belmonte\n",
      "Record 528 : taoudenni\n",
      "Record 529 : xuanzhou\n",
      "Record 530 : muli\n",
      "Record 531 : lesosibirsk\n",
      "Record 532 : avinurme\n",
      "Record 533 : te anau\n",
      "That is not a place, fool\n",
      "Record 534 : clonakilty\n",
      "Record 535 : broome\n",
      "Record 536 : sena madureira\n",
      "Record 537 : wattegama\n",
      "Record 538 : dunedin\n",
      "Record 539 : somers\n",
      "Record 540 : saint-gabriel\n",
      "That is not a place, fool\n",
      "Record 541 : shizukuishi\n",
      "Record 542 : springbok\n",
      "Record 543 : huilong\n",
      "Record 544 : agirish\n",
      "Record 545 : kichmengskiy gorodok\n",
      "Record 546 : gonzalez\n",
      "Record 547 : yemelyanovo\n",
      "Record 548 : sao lourenco do sul\n",
      "Record 549 : barmer\n",
      "Record 550 : yeniseysk\n",
      "Record 551 : batemans bay\n",
      "Record 552 : khuzhir\n",
      "Record 553 : yuci\n",
      "Record 554 : peniche\n",
      "Record 555 : clyde river\n",
      "Record 556 : bonthe\n",
      "Record 557 : chumikan\n",
      "Record 558 : otane\n",
      "Record 559 : banda aceh\n",
      "That is not a place, fool\n",
      "Record 560 : ulfborg\n",
      "Record 561 : necochea\n",
      "Record 562 : hoquiam\n",
      "Record 563 : benguela\n",
      "Record 564 : etchoropo\n",
      "Record 565 : enterprise\n",
      "Record 566 : ballina\n",
      "Record 567 : mehamn\n"
     ]
    }
   ],
   "source": [
    "base_url = \"http://api.openweathermap.org/data/2.5/weather?units=Imperial\"\n",
    "\n",
    "# query url\n",
    "query_url = base_url + \"&appid=\" + weather_api_key + \"&q=\"\n",
    "\n",
    "#Create Empty Lists \n",
    "city_me = []\n",
    "temp_f = []\n",
    "humidity = []\n",
    "cloudiness = []\n",
    "wind_speed = []\n",
    "lon = []\n",
    "lat = []\n",
    "\n",
    "record = 1\n",
    "\n",
    "print(f'Go go gadget')\n",
    "\n",
    "\n",
    "# Loop through the cities and perform API Calls\n",
    "for city in cities:\n",
    "    try:\n",
    "        response = requests.get(f'{query_url}{city}').json()\n",
    "                \n",
    "        city_me.append(response[\"name\"])\n",
    "        temp_f.append(response[\"main\"][\"temp\"])\n",
    "        humidity.append(response[\"main\"][\"humidity\"])\n",
    "        cloudiness.append(response[\"clouds\"][\"all\"])\n",
    "        wind_speed.append(response[\"wind\"][\"speed\"])\n",
    "        lon.append(response[\"coord\"][\"lon\"])\n",
    "        lat.append(response[\"coord\"][\"lat\"])\n",
    "        \n",
    "        print(f'Record {record} : {city}')\n",
    "        record = record + 1\n",
    "   \n",
    "    except KeyError:\n",
    "        print(f'That is not a place, fool')"
   ]
  },
  {
   "cell_type": "code",
   "execution_count": 6,
   "metadata": {},
   "outputs": [
    {
     "data": {
      "text/plain": [
       "City               567\n",
       "Temperature        567\n",
       "Humidity           567\n",
       "Cloud Cover (%)    567\n",
       "Wind Speed         567\n",
       "Log                567\n",
       "Lat                567\n",
       "dtype: int64"
      ]
     },
     "execution_count": 6,
     "metadata": {},
     "output_type": "execute_result"
    }
   ],
   "source": [
    "### Convert Raw Data to DataFrame\n",
    "#Export the city data into a .csv.\n",
    "\n",
    "\n",
    "total_cities = pd.DataFrame({\"City\": city_me, \n",
    "                              \"Temperature\": temp_f,\n",
    "                              \"Humidity\": humidity,\n",
    "                              \"Cloud Cover (%)\": cloudiness,\n",
    "                              \"Wind Speed\": wind_speed, \n",
    "                              \"Log\": lon, \n",
    "                              \"Lat\": lat})\n",
    "total_cities.to_csv(\"total_cities.csv\")\n",
    "total_cities.count()                              "
   ]
  },
  {
   "cell_type": "code",
   "execution_count": 7,
   "metadata": {},
   "outputs": [
    {
     "data": {
      "text/html": [
       "<div>\n",
       "<style scoped>\n",
       "    .dataframe tbody tr th:only-of-type {\n",
       "        vertical-align: middle;\n",
       "    }\n",
       "\n",
       "    .dataframe tbody tr th {\n",
       "        vertical-align: top;\n",
       "    }\n",
       "\n",
       "    .dataframe thead th {\n",
       "        text-align: right;\n",
       "    }\n",
       "</style>\n",
       "<table border=\"1\" class=\"dataframe\">\n",
       "  <thead>\n",
       "    <tr style=\"text-align: right;\">\n",
       "      <th></th>\n",
       "      <th>City</th>\n",
       "      <th>Temperature</th>\n",
       "      <th>Humidity</th>\n",
       "      <th>Cloud Cover (%)</th>\n",
       "      <th>Wind Speed</th>\n",
       "      <th>Log</th>\n",
       "      <th>Lat</th>\n",
       "    </tr>\n",
       "  </thead>\n",
       "  <tbody>\n",
       "    <tr>\n",
       "      <th>0</th>\n",
       "      <td>Kavaratti</td>\n",
       "      <td>82.33</td>\n",
       "      <td>60</td>\n",
       "      <td>31</td>\n",
       "      <td>9.69</td>\n",
       "      <td>72.6420</td>\n",
       "      <td>10.5669</td>\n",
       "    </tr>\n",
       "    <tr>\n",
       "      <th>1</th>\n",
       "      <td>Acarí</td>\n",
       "      <td>65.21</td>\n",
       "      <td>75</td>\n",
       "      <td>54</td>\n",
       "      <td>4.36</td>\n",
       "      <td>-74.6158</td>\n",
       "      <td>-15.4311</td>\n",
       "    </tr>\n",
       "    <tr>\n",
       "      <th>2</th>\n",
       "      <td>Khatanga</td>\n",
       "      <td>-4.09</td>\n",
       "      <td>99</td>\n",
       "      <td>96</td>\n",
       "      <td>3.87</td>\n",
       "      <td>102.5000</td>\n",
       "      <td>71.9667</td>\n",
       "    </tr>\n",
       "    <tr>\n",
       "      <th>3</th>\n",
       "      <td>Brae</td>\n",
       "      <td>51.62</td>\n",
       "      <td>88</td>\n",
       "      <td>100</td>\n",
       "      <td>9.08</td>\n",
       "      <td>-1.3530</td>\n",
       "      <td>60.3964</td>\n",
       "    </tr>\n",
       "    <tr>\n",
       "      <th>4</th>\n",
       "      <td>Morón</td>\n",
       "      <td>70.50</td>\n",
       "      <td>76</td>\n",
       "      <td>100</td>\n",
       "      <td>10.20</td>\n",
       "      <td>-58.6198</td>\n",
       "      <td>-34.6534</td>\n",
       "    </tr>\n",
       "  </tbody>\n",
       "</table>\n",
       "</div>"
      ],
      "text/plain": [
       "        City  Temperature  Humidity  Cloud Cover (%)  Wind Speed       Log  \\\n",
       "0  Kavaratti        82.33        60               31        9.69   72.6420   \n",
       "1      Acarí        65.21        75               54        4.36  -74.6158   \n",
       "2   Khatanga        -4.09        99               96        3.87  102.5000   \n",
       "3       Brae        51.62        88              100        9.08   -1.3530   \n",
       "4      Morón        70.50        76              100       10.20  -58.6198   \n",
       "\n",
       "       Lat  \n",
       "0  10.5669  \n",
       "1 -15.4311  \n",
       "2  71.9667  \n",
       "3  60.3964  \n",
       "4 -34.6534  "
      ]
     },
     "execution_count": 7,
     "metadata": {},
     "output_type": "execute_result"
    }
   ],
   "source": [
    "#Display the DataFrame\n",
    "total_cities.head()"
   ]
  },
  {
   "cell_type": "markdown",
   "metadata": {},
   "source": [
    "## Inspect the data and remove the cities where the humidity > 100%.\n",
    "----\n",
    "Skip this step if there are no cities that have humidity > 100%. "
   ]
  },
  {
   "cell_type": "code",
   "execution_count": null,
   "metadata": {},
   "outputs": [],
   "source": [
    "#  Get the indices of cities that have humidity over 100%.\n",
    "super_humid.df = total_cities.loc[(total_cities['Humidity'] > 100)]\n",
    "super_humid.df"
   ]
  },
  {
   "cell_type": "markdown",
   "metadata": {},
   "source": [
    "## Plotting the Data\n",
    "* Use proper labeling of the plots using plot titles (including date of analysis) and axes labels.\n",
    "* Save the plotted figures as .pngs."
   ]
  },
  {
   "cell_type": "markdown",
   "metadata": {},
   "source": [
    "## Latitude vs. Temperature Plot\n",
    "This illustrates how the North and South poles are colder than the equater and how the North pole is colder than the South. "
   ]
  },
  {
   "cell_type": "code",
   "execution_count": 15,
   "metadata": {
    "scrolled": true
   },
   "outputs": [
    {
     "data": {
      "image/png": "[encoded data removed]",
      "text/plain": [
       "<Figure size 432x288 with 1 Axes>"
      ]
     },
     "metadata": {
      "needs_background": "light"
     },
     "output_type": "display_data"
    }
   ],
   "source": [
    "plt.scatter(lat, temp_f)\n",
    "plt.title('Latitude vs. Temperature')\n",
    "plt.xlabel('Lat')\n",
    "plt.ylabel('Temp (F)')\n",
    "plt.show()"
   ]
  },
  {
   "cell_type": "markdown",
   "metadata": {},
   "source": [
    "## Latitude vs. Humidity Plot\n",
    "Overall humidity is above 40% except for around the Tropics of Capricorn and Cancer, where there is a considerable dip. "
   ]
  },
  {
   "cell_type": "code",
   "execution_count": 11,
   "metadata": {},
   "outputs": [
    {
     "data": {
      "image/png": "[encoded data removed]",
      "text/plain": [
       "<Figure size 432x288 with 1 Axes>"
      ]
     },
     "metadata": {
      "needs_background": "light"
     },
     "output_type": "display_data"
    }
   ],
   "source": [
    "plt.scatter(lat, humidity)\n",
    "plt.title('Latitude vs. Humidity')\n",
    "plt.xlabel('Lat')\n",
    "plt.ylabel('Humidity (%)')\n",
    "plt.show()"
   ]
  },
  {
   "cell_type": "markdown",
   "metadata": {},
   "source": [
    "## Latitude vs. Cloudiness Plot\n",
    "Relatively evenly distribution of cloud cover. With no clouds and full cloud cover happening a bit more often. "
   ]
  },
  {
   "cell_type": "code",
   "execution_count": 12,
   "metadata": {},
   "outputs": [
    {
     "data": {
      "image/png": "[encoded data removed]",
      "text/plain": [
       "<Figure size 432x288 with 1 Axes>"
      ]
     },
     "metadata": {
      "needs_background": "light"
     },
     "output_type": "display_data"
    }
   ],
   "source": [
    "plt.scatter(lat, cloudiness)\n",
    "plt.title('Latitude vs. Cloudiness')\n",
    "plt.xlabel('Lat')\n",
    "plt.ylabel('Cloudiness (%)')\n",
    "plt.show()"
   ]
  },
  {
   "cell_type": "markdown",
   "metadata": {},
   "source": [
    "## Latitude vs. Wind Speed Plot\n",
    "Wind speed stays mostly under 20 mph. Which seems fairly low, especially considering coastal areas. "
   ]
  },
  {
   "cell_type": "code",
   "execution_count": 14,
   "metadata": {},
   "outputs": [
    {
     "data": {
      "image/png": "[encoded data removed]",
      "text/plain": [
       "<Figure size 432x288 with 1 Axes>"
      ]
     },
     "metadata": {
      "needs_background": "light"
     },
     "output_type": "display_data"
    }
   ],
   "source": [
    "plt.scatter(lat, wind_speed)\n",
    "plt.title('Latitude vs. Wind Speed')\n",
    "plt.xlabel('Lat')\n",
    "plt.ylabel('Wind Speed (mph)')\n",
    "plt.show()"
   ]
  },
  {
   "cell_type": "markdown",
   "metadata": {},
   "source": [
    "## Linear Regression"
   ]
  },
  {
   "cell_type": "code",
   "execution_count": 25,
   "metadata": {},
   "outputs": [],
   "source": []
  },
  {
   "cell_type": "markdown",
   "metadata": {},
   "source": [
    "####  Northern Hemisphere - Max Temp vs. Latitude Linear Regression"
   ]
  },
  {
   "cell_type": "code",
   "execution_count": 41,
   "metadata": {},
   "outputs": [
    {
     "data": {
      "image/png": "[encoded data removed]",
      "text/plain": [
       "<Figure size 432x288 with 1 Axes>"
      ]
     },
     "metadata": {
      "needs_background": "light"
     },
     "output_type": "display_data"
    }
   ],
   "source": [
    "cities_north = total_cities[total_cities['Lat']>0]\n",
    "x_values = cities_north['Lat']\n",
    "y_values = cities_north['Temperature']\n",
    "(slope, intercept, rvalue, pvalue, stderr) = linregress(x_values, y_values)\n",
    "regress_values = x_values * slope + intercept\n",
    "line_eq = \"y = \" + str(round(slope,2)) + \"x + \" + str(round(intercept,2))\n",
    "plt.scatter(x_values,y_values)\n",
    "plt.plot(x_values,regress_values,\"r-\")\n",
    "plt.annotate(line_eq,(5.8,0.8),fontsize=15,color=\"red\")\n",
    "plt.xlabel('Latitude')\n",
    "plt.ylabel('Temp')\n",
    "plt.show()\n",
    "\n",
    "#Negative relationship between how far from you are to the equator and how hot the temperture is.  "
   ]
  },
  {
   "cell_type": "markdown",
   "metadata": {},
   "source": [
    "####  Southern Hemisphere - Max Temp vs. Latitude Linear Regression"
   ]
  },
  {
   "cell_type": "code",
   "execution_count": 42,
   "metadata": {},
   "outputs": [
    {
     "data": {
      "image/png": "[encoded data removed]",
      "text/plain": [
       "<Figure size 432x288 with 1 Axes>"
      ]
     },
     "metadata": {
      "needs_background": "light"
     },
     "output_type": "display_data"
    }
   ],
   "source": [
    "cities_south = total_cities[total_cities['Lat']<0]\n",
    "x_values = cities_south['Lat']\n",
    "y_values = cities_south['Temperature']\n",
    "(slope, intercept, rvalue, pvalue, stderr) = linregress(x_values, y_values)\n",
    "regress_values = x_values * slope + intercept\n",
    "line_eq = \"y = \" + str(round(slope,2)) + \"x + \" + str(round(intercept,2))\n",
    "plt.scatter(x_values,y_values)\n",
    "plt.plot(x_values,regress_values,\"r-\")\n",
    "plt.annotate(line_eq,(5.8,0.8),fontsize=15,color=\"red\")\n",
    "plt.xlabel('Latitude')\n",
    "plt.ylabel('Temp')\n",
    "plt.show()\n",
    "\n",
    "#Positive relationship between how close you are to the equator and how hot the temperture is."
   ]
  },
  {
   "cell_type": "markdown",
   "metadata": {},
   "source": [
    "####  Northern Hemisphere - Humidity (%) vs. Latitude Linear Regression"
   ]
  },
  {
   "cell_type": "code",
   "execution_count": 43,
   "metadata": {},
   "outputs": [
    {
     "data": {
      "image/png": "[encoded data removed]",
      "text/plain": [
       "<Figure size 432x288 with 1 Axes>"
      ]
     },
     "metadata": {
      "needs_background": "light"
     },
     "output_type": "display_data"
    }
   ],
   "source": [
    "cities_north = total_cities[total_cities['Lat']>0]\n",
    "x_values = cities_north['Lat']\n",
    "y_values = cities_north['Humidity']\n",
    "(slope, intercept, rvalue, pvalue, stderr) = linregress(x_values, y_values)\n",
    "regress_values = x_values * slope + intercept\n",
    "line_eq = \"y = \" + str(round(slope,2)) + \"x + \" + str(round(intercept,2))\n",
    "plt.scatter(x_values,y_values)\n",
    "plt.plot(x_values,regress_values,\"r-\")\n",
    "plt.annotate(line_eq,(5.8,0.8),fontsize=15,color=\"red\")\n",
    "plt.xlabel('Latitude')\n",
    "plt.ylabel('Humidity')\n",
    "plt.show()\n",
    "\n",
    "#Slight positive slope as you move toward the equator. "
   ]
  },
  {
   "cell_type": "markdown",
   "metadata": {},
   "source": [
    "####  Southern Hemisphere - Humidity (%) vs. Latitude Linear Regression"
   ]
  },
  {
   "cell_type": "code",
   "execution_count": 44,
   "metadata": {},
   "outputs": [
    {
     "data": {
      "image/png": "[encoded data removed]",
      "text/plain": [
       "<Figure size 432x288 with 1 Axes>"
      ]
     },
     "metadata": {
      "needs_background": "light"
     },
     "output_type": "display_data"
    }
   ],
   "source": [
    "cities_south = total_cities[total_cities['Lat']<0]\n",
    "x_values = cities_south['Lat']\n",
    "y_values = cities_south['Humidity']\n",
    "(slope, intercept, rvalue, pvalue, stderr) = linregress(x_values, y_values)\n",
    "regress_values = x_values * slope + intercept\n",
    "line_eq = \"y = \" + str(round(slope,2)) + \"x + \" + str(round(intercept,2))\n",
    "plt.scatter(x_values,y_values)\n",
    "plt.plot(x_values,regress_values,\"r-\")\n",
    "plt.annotate(line_eq,(5.8,0.8),fontsize=15,color=\"red\")\n",
    "plt.xlabel('Latitude')\n",
    "plt.ylabel('Humidity')\n",
    "plt.show()\n",
    "\n",
    "#Slight positive slope as you move toward the equator. "
   ]
  },
  {
   "cell_type": "markdown",
   "metadata": {},
   "source": [
    "####  Northern Hemisphere - Cloudiness (%) vs. Latitude Linear Regression"
   ]
  },
  {
   "cell_type": "code",
   "execution_count": 45,
   "metadata": {},
   "outputs": [
    {
     "data": {
      "image/png": "[encoded data removed]",
      "text/plain": [
       "<Figure size 432x288 with 1 Axes>"
      ]
     },
     "metadata": {
      "needs_background": "light"
     },
     "output_type": "display_data"
    }
   ],
   "source": [
    "cities_north = total_cities[total_cities['Lat']>0]\n",
    "x_values = cities_north['Lat']\n",
    "y_values = cities_north['Cloud Cover (%)']\n",
    "(slope, intercept, rvalue, pvalue, stderr) = linregress(x_values, y_values)\n",
    "regress_values = x_values * slope + intercept\n",
    "line_eq = \"y = \" + str(round(slope,2)) + \"x + \" + str(round(intercept,2))\n",
    "plt.scatter(x_values,y_values)\n",
    "plt.plot(x_values,regress_values,\"r-\")\n",
    "plt.annotate(line_eq,(5.8,0.8),fontsize=15,color=\"red\")\n",
    "plt.xlabel('Latitude')\n",
    "plt.ylabel('Cloud Cover (%)')\n",
    "plt.show()\n",
    "\n",
    "#Slightly more cloudy as you move North from the equator"
   ]
  },
  {
   "cell_type": "markdown",
   "metadata": {},
   "source": [
    "####  Southern Hemisphere - Cloudiness (%) vs. Latitude Linear Regression"
   ]
  },
  {
   "cell_type": "code",
   "execution_count": 46,
   "metadata": {},
   "outputs": [
    {
     "data": {
      "image/png": "[encoded data removed]",
      "text/plain": [
       "<Figure size 432x288 with 1 Axes>"
      ]
     },
     "metadata": {
      "needs_background": "light"
     },
     "output_type": "display_data"
    }
   ],
   "source": [
    "cities_south = total_cities[total_cities['Lat']<0]\n",
    "x_values = cities_south['Lat']\n",
    "y_values = cities_south['Cloud Cover (%)']\n",
    "(slope, intercept, rvalue, pvalue, stderr) = linregress(x_values, y_values)\n",
    "regress_values = x_values * slope + intercept\n",
    "line_eq = \"y = \" + str(round(slope,2)) + \"x + \" + str(round(intercept,2))\n",
    "plt.scatter(x_values,y_values)\n",
    "plt.plot(x_values,regress_values,\"r-\")\n",
    "plt.annotate(line_eq,(5.8,0.8),fontsize=15,color=\"red\")\n",
    "plt.xlabel('Latitude')\n",
    "plt.ylabel('Cloud Cover (%)')\n",
    "plt.show()\n",
    "\n",
    "#Very slight positive slope as you move toward the equator. Possibly little to no correlation between cloud cover and latitude."
   ]
  },
  {
   "cell_type": "markdown",
   "metadata": {},
   "source": [
    "####  Northern Hemisphere - Wind Speed (mph) vs. Latitude Linear Regression"
   ]
  },
  {
   "cell_type": "code",
   "execution_count": 47,
   "metadata": {},
   "outputs": [
    {
     "data": {
      "image/png": "[encoded data removed]",
      "text/plain": [
       "<Figure size 432x288 with 1 Axes>"
      ]
     },
     "metadata": {
      "needs_background": "light"
     },
     "output_type": "display_data"
    }
   ],
   "source": [
    "cities_north = total_cities[total_cities['Lat']>0]\n",
    "x_values = cities_north['Lat']\n",
    "y_values = cities_north['Wind Speed']\n",
    "(slope, intercept, rvalue, pvalue, stderr) = linregress(x_values, y_values)\n",
    "regress_values = x_values * slope + intercept\n",
    "line_eq = \"y = \" + str(round(slope,2)) + \"x + \" + str(round(intercept,2))\n",
    "plt.scatter(x_values,y_values)\n",
    "plt.plot(x_values,regress_values,\"r-\")\n",
    "plt.annotate(line_eq,(5.8,0.8),fontsize=15,color=\"red\")\n",
    "plt.xlabel('Latitude')\n",
    "plt.ylabel('Wind Speed')\n",
    "plt.show()\n",
    "\n",
    "#Wind speed only increases by about 3 mph as you move North from the equator. Little to no evidence that latitude determines wind speed. "
   ]
  },
  {
   "cell_type": "markdown",
   "metadata": {},
   "source": [
    "####  Southern Hemisphere - Wind Speed (mph) vs. Latitude Linear Regression"
   ]
  },
  {
   "cell_type": "code",
   "execution_count": 48,
   "metadata": {},
   "outputs": [
    {
     "data": {
      "image/png": "[encoded data removed]",
      "text/plain": [
       "<Figure size 432x288 with 1 Axes>"
      ]
     },
     "metadata": {
      "needs_background": "light"
     },
     "output_type": "display_data"
    }
   ],
   "source": [
    "cities_south = total_cities[total_cities['Lat']<0]\n",
    "x_values = cities_south['Lat']\n",
    "y_values = cities_south['Wind Speed']\n",
    "(slope, intercept, rvalue, pvalue, stderr) = linregress(x_values, y_values)\n",
    "regress_values = x_values * slope + intercept\n",
    "line_eq = \"y = \" + str(round(slope,2)) + \"x + \" + str(round(intercept,2))\n",
    "plt.scatter(x_values,y_values)\n",
    "plt.plot(x_values,regress_values,\"r-\")\n",
    "plt.annotate(line_eq,(5.8,0.8),fontsize=15,color=\"red\")\n",
    "plt.xlabel('Latitude')\n",
    "plt.ylabel('Wind Speed')\n",
    "plt.show()\n",
    "\n",
    "#Less wind speed as you move from the South pole and go North.  Might be partially shown because there are no cities in the North pole. Very windy there for the penguins, though.  "
   ]
  }
 ],
 "metadata": {
  "anaconda-cloud": {},
  "kernel_info": {
   "name": "python3"
  },
  "kernelspec": {
   "display_name": "Python 3 (ipykernel)",
   "language": "python",
   "name": "python3"
  },
  "language_info": {
   "codemirror_mode": {
    "name": "ipython",
    "version": 3
   },
   "file_extension": ".py",
   "mimetype": "text/x-python",
   "name": "python",
   "nbconvert_exporter": "python",
   "pygments_lexer": "ipython3",
   "version": "3.9.12"
  },
  "latex_envs": {
   "LaTeX_envs_menu_present": true,
   "autoclose": false,
   "autocomplete": true,
   "bibliofile": "biblio.bib",
   "cite_by": "apalike",
   "current_citInitial": 1,
   "eqLabelWithNumbers": true,
   "eqNumInitial": 1,
   "hotkeys": {
    "equation": "Ctrl-E",
    "itemize": "Ctrl-I"
   },
   "labels_anchors": false,
   "latex_user_defs": false,
   "report_style_numbering": false,
   "user_envs_cfg": false
  },
  "nteract": {
   "version": "0.12.3"
  }
 },
 "nbformat": 4,
 "nbformat_minor": 2
}
